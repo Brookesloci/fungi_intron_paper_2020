{
 "cells": [
  {
   "cell_type": "code",
   "execution_count": null,
   "metadata": {},
   "outputs": [],
   "source": [
    "    from platform import python_version\n",
    "    print(python_version())"
   ]
  },
  {
   "cell_type": "code",
   "execution_count": null,
   "metadata": {},
   "outputs": [],
   "source": [
    "import os\n",
    "from Bio import SeqIO\n",
    "import csv"
   ]
  },
  {
   "cell_type": "code",
   "execution_count": null,
   "metadata": {},
   "outputs": [],
   "source": [
    "#create empty dictionary to input taxids as keys and total kbp CDS as values\n",
    "CDS = {}\n",
    "#iterate through all alignment files in the working directory\n",
    "for filename in os.listdir(\"/Users/brookeweinstein/Desktop/alignment\"):\n",
    "    if filename.endswith(\".faa\"):\n",
    "        for record in SeqIO.parse(filename, \"fasta\"):\n",
    "            x = record.seq\n",
    "            y = str(x)\n",
    "            z = y.replace(\"-\",\"\")\n",
    "            kbp = len(z)\n",
    "            a = record.id\n",
    "            b = str(a)\n",
    "            taxid = b.split('|')[0]\n",
    "            if taxid in CDS.keys():\n",
    "                c = CDS.get(taxid)\n",
    "                total = c + kbp\n",
    "            else:\n",
    "                total = kbp\n",
    "            CDS.update({taxid : total})\n",
    "    else:\n",
    "        continue\n",
    "print (\"Dict taxid-kbp CDS are : \") \n",
    "for i in CDS : \n",
    "            print(i, CDS[i]) "
   ]
  },
  {
   "cell_type": "code",
   "execution_count": null,
   "metadata": {},
   "outputs": [],
   "source": [
    "with open('CDS.csv', 'w') as f:  \n",
    "    w = csv.DictWriter(f, CDS.keys())\n",
    "    w.writeheader()\n",
    "    w.writerow(CDS)"
   ]
  },
  {
   "cell_type": "code",
   "execution_count": null,
   "metadata": {},
   "outputs": [],
   "source": [
    "len(CDS)"
   ]
  }
 ],
 "metadata": {
  "kernelspec": {
   "display_name": "p3_testenv",
   "language": "python",
   "name": "p3_testenv"
  },
  "language_info": {
   "codemirror_mode": {
    "name": "ipython",
    "version": 3
   },
   "file_extension": ".py",
   "mimetype": "text/x-python",
   "name": "python",
   "nbconvert_exporter": "python",
   "pygments_lexer": "ipython3",
   "version": "3.6.7"
  }
 },
 "nbformat": 4,
 "nbformat_minor": 2
}
