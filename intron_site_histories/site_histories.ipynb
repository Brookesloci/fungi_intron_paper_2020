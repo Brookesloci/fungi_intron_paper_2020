{
 "cells": [
  {
   "cell_type": "code",
   "execution_count": 1,
   "metadata": {},
   "outputs": [],
   "source": [
    "import re\n",
    "import glob\n",
    "import itertools\n",
    "import numpy as np\n",
    "import pandas as pd\n",
    "import matplotlib.pyplot as plt\n",
    "import seaborn as sns\n",
    "import pingouin as pg\n",
    "import scipy.stats as stats"
   ]
  },
  {
   "cell_type": "code",
   "execution_count": 2,
   "metadata": {},
   "outputs": [],
   "source": [
    "def fasta_to_dataframe(seq):\n",
    "    fasta_df = pd.read_csv(seq, sep='>', lineterminator='>', header=None)\n",
    "    fasta_df[['tid','seq']]=fasta_df[0].str.split('\\n', 1, expand=True)\n",
    "    fasta_df['tid'] = fasta_df['tid']\n",
    "    fasta_df['seq'] = fasta_df['seq'].replace('\\n','', regex=True)\n",
    "    fasta_df.drop(0, axis=1, inplace=True)\n",
    "    fasta_df = fasta_df[fasta_df.seq != '']\n",
    "    final_df = fasta_df.dropna()\n",
    "    return final_df\n",
    "\n",
    "\n",
    "def site_histories(df, sites, history, posterior, columns):\n",
    "    \"\"\"\n",
    "    Parsing Malin's site histories output\n",
    "    265 species\n",
    "    history = loss, posterior = 0.9, columns = 530:795\n",
    "    history = gain, posterior = 0.9 columns = 1051:1316\n",
    "    \"\"\"\n",
    "    cols = columns.split(':')\n",
    "    start = int(cols[0])\n",
    "    end = int(cols[1])\n",
    "    ls = df.iloc[:,start:end]\n",
    "    for i in ls.columns:\n",
    "        ls[i] = ls[i].astype(float)\n",
    "\n",
    "    l = []\n",
    "    for i in ls.columns:\n",
    "        l.append(ls[ls[i]>float(posterior)])\n",
    "    l = pd.concat(l)\n",
    "    l = l.reset_index().rename(columns={'index':'site'})\n",
    "    l = pd.merge(sites, l, on='site').drop_duplicates()\n",
    "\n",
    "    ll = []\n",
    "    for i in ls.columns:\n",
    "        filt = l[['alignment','alipos',i]]\n",
    "        filt = filt[filt[i]>float(posterior)]\n",
    "        filt = pd.DataFrame(filt.groupby('alignment').alipos.agg(list)).reset_index()\n",
    "        filt.columns = ['ortho','alipos']\n",
    "        site = '-' + history\n",
    "        filt['species'] = i.replace(site,'')\n",
    "        ll.append(filt)\n",
    "    ll = pd.concat(ll).reset_index(drop=True)\n",
    "    ll['history'] = history\n",
    "    return ll\n",
    "\n",
    "\n",
    "def residue_position(seq):\n",
    "    residues = list(re.finditer('[A-Z]+', seq))\n",
    "    residue_pos = []\n",
    "    for k,v in enumerate(residues):\n",
    "        residue_pos.extend(list(range(v.start()*3, v.end()*3)))\n",
    "    return residue_pos\n",
    "\n",
    "\n",
    "def find_pos(i, j):\n",
    "    if i[0]!=0:\n",
    "        try:\n",
    "            pos = i.index(j)\n",
    "        except ValueError:\n",
    "            pos = 'NaN'\n",
    "    elif i[0]==0:\n",
    "        pos = 0\n",
    "    else:\n",
    "        pos = 'NaN'\n",
    "    return pos\n",
    "\n",
    "\n",
    "def get_exons(pos):\n",
    "    exons = []\n",
    "    for i in range(len(pos)):\n",
    "        if i < len(pos)-1:\n",
    "            if pos[i] < pos[i+1]:\n",
    "                exons.append([pos[i], pos[i+1]])\n",
    "            elif pos[i] > pos[i+1]:\n",
    "                print('Wrong CDS end position! ' + \n",
    "                      str(pos[i]) + ',' + str(pos[i+1]))\n",
    "    return exons"
   ]
  },
  {
   "cell_type": "code",
   "execution_count": 3,
   "metadata": {},
   "outputs": [],
   "source": [
    "# get intron positions\n",
    "f = glob.glob('../intron_alignment_files/*.faaa')\n",
    "df = []\n",
    "for i in f:\n",
    "    df.append(fasta_to_dataframe(i))\n",
    "\n",
    "df = pd.concat(df).reset_index(drop=True)\n",
    "df[['tid','ipos']] = df.tid.str.split(r'{i|i}',expand=True).drop([2],axis=1)\n",
    "df[['species','tid','ortho']] = df['tid'].str.split(expand=True)[[1,0,3]]\n",
    "df['species'] = df.species.str.replace('/organism=','')\n",
    "df['ipos'] = df.ipos.str.replace(r'\\s+','')\\\n",
    ".apply(lambda x: 0 if len(x)==0 else x)\\\n",
    ".str.split(',')\\\n",
    ".fillna({i: [0] for i in df.index})\\\n",
    ".apply(lambda x: [int(i) for i in x])"
   ]
  },
  {
   "cell_type": "code",
   "execution_count": 4,
   "metadata": {},
   "outputs": [],
   "source": [
    "# get intron site histories\n",
    "sites = pd.read_csv('../malin_input_files/intron_table_40129_48.txt',sep='\\t', skiprows=266)[['site','alignment','alipos']]\n",
    "# site_histories_40129_2L_1G.txt.gz is available at https://doi.org/10.5281/zenodo.4273072\n",
    "h = pd.read_csv('site_histories_40129_2L_1G.txt.gz',sep='\\t', skiprows=3)\n",
    "stats = h[['site','prob0','prob1','present','ambiguous','lost','gained']]\n",
    "h['prob0'] = h.prob0.astype(float)\n",
    "h['prob1'] = h.prob1.astype(float)\n",
    "sites = pd.merge(sites,stats,on='site')\n",
    "\n",
    "# get intron site histories\n",
    "ll = site_histories(h, sites, 'loss', '0.99', '530:795')\n",
    "gg = site_histories(h, sites, 'gain', '0.99', '1051:1316')\n",
    "pp = site_histories(h, sites, 'present', '0.99', '8:273')"
   ]
  },
  {
   "cell_type": "code",
   "execution_count": 5,
   "metadata": {},
   "outputs": [],
   "source": [
    "h = pd.concat([gg,ll,pp]).reset_index(drop=True)\n",
    "dt = pd.merge(h,df,on=['species','ortho'])\n",
    "\n",
    "# get all nt positions in alignment\n",
    "dt['pos'] = dt.seq.apply(lambda x: residue_position(x))\n",
    "\n",
    "# map alipos (ipos in alignment) to nt positions in alignment\n",
    "dt = dt.explode('alipos').reset_index(drop=True)\n",
    "dt['evolved_ipos'] = dt[['alipos','pos']].values.tolist()\n",
    "dt['evolved_ipos'] = dt.evolved_ipos.apply(lambda x: find_pos(x[1],x[0]))\n",
    "\n",
    "# compare annotated length and protein sequence length\n",
    "# a = pd.read_csv('annotations.total.txt', sep='\\t', comment='#', header=None, usecols=[1,5])\n",
    "# a.columns = ['tid','annotated_length']\n",
    "# a['annotated_length'] = (a.annotated_length*3).astype(int)\n",
    "# dt = pd.merge(dt, a, on='tid')\n",
    "# w = dt[~(dt.seq_length==dt.annotated_length) & ~(dt.seq_length-dt.annotated_length==3) & ~(dt.seq_length-dt.annotated_length==-3)]\n",
    "# (w.seq_length-w.annotated_length).sort_values(ascending=False)\n",
    "# dt[dt.seq_length-dt.annotated_length==-3].shape,dt[dt.seq_length-dt.annotated_length==3].shape\n",
    "\n",
    "# get nth intron\n",
    "dt['nth_intron'] = dt.evolved_ipos.apply(lambda x: [x]) + dt.ipos\n",
    "dt['nth_intron'] = dt.nth_intron.apply(lambda x: np.unique(x).tolist())\n",
    "dt['nth_intron'] = dt[['evolved_ipos','nth_intron']].values.tolist()\n",
    "dt['nth_intron'] = dt.nth_intron.apply(lambda x: find_pos(x[1],x[0]) + 1)\n",
    "\n",
    "# get intron counts\n",
    "dt['intron_counts'] = dt.ipos.apply(lambda x: len(x) if x[0]!=0 else 0)\n",
    "\n",
    "# get exon positions\n",
    "dt['seq_length'] = dt.seq.apply(lambda x: len(x.replace('-',''))*3)\n",
    "dt['epos'] = (pd.Series([0] * len(dt)).apply(lambda x: [x]) + \n",
    "              dt.seq_length.apply(lambda x: [x]) +\n",
    "              dt.evolved_ipos.apply(lambda x: [x]) +\n",
    "              dt.ipos).apply(lambda x: np.unique(x).tolist())\n",
    "dt.drop(['alipos','seq','pos'], axis=1, inplace=True)\n",
    "dt = dt[(dt.epos.apply(lambda x: len(x))!=2) & (dt.evolved_ipos!='NaN')]\n",
    "\n",
    "# get all exons\n",
    "dt['exons'] = dt.epos.apply(lambda x: get_exons(x))\n",
    "\n",
    "# get intron loss/gain exons\n",
    "dt['evolved_exons'] = dt[['nth_intron','epos']].values.tolist()\n",
    "dt['evolved_exons'] = dt.evolved_exons.apply(lambda x: [x[1][x[0]-1], x[1][x[0]], x[1][x[0]+1]])\n",
    "dt['evolved_ipos'] = dt.evolved_ipos.astype(int)\n",
    "dt['seq_length'] = dt.seq_length.astype(int)\n",
    "dt['check_ipos'] = dt[['ipos','evolved_ipos']].values.tolist()\n",
    "dt['check_ipos'] = dt.check_ipos.apply(lambda x: [i for i in x[0] if i==x[1]])\n",
    "dtl = dt[dt.history=='loss']\n",
    "dtgp = dt[dt.astype(str)['check_ipos'] != '[]']\n",
    "dt = pd.concat([dtl,dtgp])\n",
    "dt = dt[(dt.evolved_ipos!=0) & (dt.evolved_ipos!=dt.seq_length)]\n",
    "dt['check_ends'] = dt[['ipos','seq_length']].values.tolist()\n",
    "dt = dt[(dt.check_ends.apply(lambda x: x[0][0]!=0)) & \n",
    "            (dt.check_ends.apply(lambda x: x[0][-1]!=x[1]))]\n",
    "dt.to_pickle('evolved_exons.pkl')"
   ]
  },
  {
   "cell_type": "code",
   "execution_count": 2,
   "metadata": {},
   "outputs": [],
   "source": [
    "# dt = pd.read_pickle('evolved_exons.pkl')"
   ]
  },
  {
   "cell_type": "code",
   "execution_count": 3,
   "metadata": {},
   "outputs": [],
   "source": [
    "# get exon present\n",
    "e = dt[dt.history=='present'][['tid','evolved_exons']]\n",
    "e['Length (bp)'] = e.evolved_exons.apply(lambda x: [x[1]-x[0], x[2]-x[1]])\n",
    "e['Exons'] = 'present'\n",
    "e = e.explode('Length (bp)').drop_duplicates(['tid','Length (bp)'])[['tid','Length (bp)','Exons']]"
   ]
  },
  {
   "cell_type": "code",
   "execution_count": 4,
   "metadata": {},
   "outputs": [],
   "source": [
    "# get representative exons from intron loss events\n",
    "ele = pd.DataFrame(dt[dt.history=='loss'].groupby('tid').evolved_exons.agg(list)).reset_index()\n",
    "ele['taxid'] = ele.tid.str.split('|').apply(lambda x: x[0])\n",
    "ele['fused_exons'] = ele.evolved_exons.apply(lambda x: np.unique(list(itertools.chain.from_iterable(x))).tolist())\n",
    "ele['fused_counts'] = ele.fused_exons.apply(lambda x: len(x))\n",
    "\n",
    "# get 2-into-1 and 3-into-1 exons\n",
    "p = ele[(ele.fused_counts==3) | (ele.fused_counts==4)].reset_index(drop=True)\n",
    "p['length'] = p.fused_exons.apply(lambda x: x[-1] - x[0])\n",
    "p = p[['tid','length','fused_counts']]\n",
    "\n",
    "# get some other 2-into-1 exons\n",
    "f = ele[(ele.fused_counts==5) & \n",
    "        (ele.evolved_exons.apply(lambda x: len(x)==2))].reset_index(drop=True)\n",
    "f['length'] = f.evolved_exons.apply(lambda x: [x[0][-1] - x[0][0], x[1][-1] - x[1][0]])\n",
    "f = f[['tid','length','fused_counts']].explode('length')\n",
    "\n",
    "p = pd.concat([p,f])\n",
    "p['fused_counts'] = p.fused_counts.astype(str).replace('3','2-into-1')\\\n",
    ".replace('4','3-into-1').replace('5','2-into-1')\n",
    "p.columns = ['tid','Length (bp)','Exons']\n",
    "p.drop_duplicates(['tid','Length (bp)'], inplace=True)"
   ]
  },
  {
   "cell_type": "code",
   "execution_count": 5,
   "metadata": {},
   "outputs": [],
   "source": [
    "# get representative exons from intron gain events\n",
    "se = pd.DataFrame(dt[dt.history=='gain'].groupby('tid').evolved_exons.agg(list)).reset_index()\n",
    "se['taxid'] = se.tid.str.split('|').apply(lambda x: x[0])\n",
    "se['split_exons'] = se.evolved_exons.apply(lambda x: np.unique(list(itertools.chain.from_iterable(x))).tolist())\n",
    "se['split_counts'] = se.split_exons.apply(lambda x: len(x))\n",
    "\n",
    "# get 1-into-2 and 1-into-3 exons\n",
    "q = se[(se.split_counts==3) | (se.split_counts==4)].reset_index(drop=True)\n",
    "q = q[['tid','split_exons','split_counts']]"
   ]
  },
  {
   "cell_type": "code",
   "execution_count": 6,
   "metadata": {},
   "outputs": [],
   "source": [
    "# get some other 1-into-2 exons\n",
    "s = se[(se.split_counts==5) & \n",
    "       (se.evolved_exons.apply(lambda x: len(x)==2))].reset_index(drop=True)\n",
    "s = s.explode('evolved_exons')[['tid','evolved_exons']]\n",
    "s['split_counts'] = 3\n",
    "s.columns = ['tid','split_exons','split_counts']\n",
    "\n",
    "# get exon lengths\n",
    "q = pd.concat([q,s])\n",
    "q['length'] = q.split_exons.apply(lambda x:\n",
    "                                  [x[2]-x[1], x[1]-x[0]] if len(x)==3 else \n",
    "                                  [x[3]-x[2], x[2]-x[1], x[1]-x[0]])\n",
    "q = q.explode('length')[['tid','length','split_counts']]\n",
    "\n",
    "q['split_counts'] = q.split_counts.astype(str).replace('3','1-into-2').replace('4','1-into-3')\n",
    "q.columns = ['tid','Length (bp)','Exons']\n",
    "q.drop_duplicates(['tid','Length (bp)'], inplace=True)"
   ]
  },
  {
   "cell_type": "code",
   "execution_count": 7,
   "metadata": {},
   "outputs": [],
   "source": [
    "# median lengths of different exon classes\n",
    "e = pd.concat([p,q,e]).drop_duplicates(['tid','Length (bp)'])\n",
    "e = e[e.Exons=='present']\n",
    "dd = pd.concat([p,q,e])\n",
    "dd['Length (bp)'] = dd['Length (bp)'].astype(int)"
   ]
  },
  {
   "cell_type": "code",
   "execution_count": 8,
   "metadata": {},
   "outputs": [
    {
     "data": {
      "text/html": [
       "<div>\n",
       "<style scoped>\n",
       "    .dataframe tbody tr th:only-of-type {\n",
       "        vertical-align: middle;\n",
       "    }\n",
       "\n",
       "    .dataframe tbody tr th {\n",
       "        vertical-align: top;\n",
       "    }\n",
       "\n",
       "    .dataframe thead th {\n",
       "        text-align: right;\n",
       "    }\n",
       "</style>\n",
       "<table border=\"1\" class=\"dataframe\">\n",
       "  <thead>\n",
       "    <tr style=\"text-align: right;\">\n",
       "      <th></th>\n",
       "      <th>Exons</th>\n",
       "      <th>Median length (bp)</th>\n",
       "      <th>Counts</th>\n",
       "    </tr>\n",
       "  </thead>\n",
       "  <tbody>\n",
       "    <tr>\n",
       "      <th>0</th>\n",
       "      <td>1-into-2</td>\n",
       "      <td>235</td>\n",
       "      <td>4260</td>\n",
       "    </tr>\n",
       "    <tr>\n",
       "      <th>1</th>\n",
       "      <td>1-into-3</td>\n",
       "      <td>218</td>\n",
       "      <td>423</td>\n",
       "    </tr>\n",
       "    <tr>\n",
       "      <th>2</th>\n",
       "      <td>2-into-1</td>\n",
       "      <td>462</td>\n",
       "      <td>11950</td>\n",
       "    </tr>\n",
       "    <tr>\n",
       "      <th>3</th>\n",
       "      <td>3-into-1</td>\n",
       "      <td>1041</td>\n",
       "      <td>1265</td>\n",
       "    </tr>\n",
       "    <tr>\n",
       "      <th>4</th>\n",
       "      <td>present</td>\n",
       "      <td>172</td>\n",
       "      <td>378391</td>\n",
       "    </tr>\n",
       "  </tbody>\n",
       "</table>\n",
       "</div>"
      ],
      "text/plain": [
       "      Exons  Median length (bp)  Counts\n",
       "0  1-into-2                 235    4260\n",
       "1  1-into-3                 218     423\n",
       "2  2-into-1                 462   11950\n",
       "3  3-into-1                1041    1265\n",
       "4   present                 172  378391"
      ]
     },
     "execution_count": 8,
     "metadata": {},
     "output_type": "execute_result"
    }
   ],
   "source": [
    "# summary of representative dataset\n",
    "summary = dd.groupby('Exons').median().reset_index()\n",
    "summary.columns = ['Exons','Median length (bp)']\n",
    "total = pd.DataFrame(dd.Exons.value_counts()).reset_index()\n",
    "total.columns = ['Exons','Counts']\n",
    "pd.merge(summary,total,on='Exons')"
   ]
  },
  {
   "cell_type": "code",
   "execution_count": 9,
   "metadata": {},
   "outputs": [
    {
     "data": {
      "text/plain": [
       "6.0523255813953485"
      ]
     },
     "execution_count": 9,
     "metadata": {},
     "output_type": "execute_result"
    }
   ],
   "source": [
    "1041/172"
   ]
  },
  {
   "cell_type": "code",
   "execution_count": 10,
   "metadata": {},
   "outputs": [
    {
     "data": {
      "image/png": "[encoded data removed]",
      "text/plain": [
       "<Figure size 180x180 with 1 Axes>"
      ]
     },
     "metadata": {
      "needs_background": "light"
     },
     "output_type": "display_data"
    }
   ],
   "source": [
    "plt.figure(figsize=(2.5,2.5))\n",
    "sns.set_style(\"ticks\")\n",
    "g = sns.boxplot(x='Exons', y='Length (bp)', data=dd,\n",
    "                order=['present','1-into-3','1-into-2','2-into-1','3-into-1']) #showfliers = False)\n",
    "# g = sns.stripplot('fused_counts', 'length', data=p, \n",
    "#                   jitter=0.4, size=4, alpha=0.01, palette='tab10', linewidth=1)\n",
    "g.set_yscale('log')\n",
    "g.set_xticklabels(g.get_xticklabels(),rotation=45)\n",
    "plt.savefig('evolved_exons.pdf', bbox_inches='tight')"
   ]
  },
  {
   "cell_type": "code",
   "execution_count": 11,
   "metadata": {},
   "outputs": [],
   "source": [
    "dd['log_length'] = np.log10(dd['Length (bp)'])"
   ]
  },
  {
   "cell_type": "code",
   "execution_count": 12,
   "metadata": {},
   "outputs": [
    {
     "name": "stderr",
     "output_type": "stream",
     "text": [
      "/home/chunlim/anaconda3/lib/python3.7/site-packages/pingouin/bayesian.py:152: RuntimeWarning: divide by zero encountered in double_scalars\n",
      "  bf10 = 1 / ((1 + t**2 / df)**(-(df + 1) / 2) / integr)\n"
     ]
    },
    {
     "data": {
      "text/html": [
       "<div>\n",
       "<style scoped>\n",
       "    .dataframe tbody tr th:only-of-type {\n",
       "        vertical-align: middle;\n",
       "    }\n",
       "\n",
       "    .dataframe tbody tr th {\n",
       "        vertical-align: top;\n",
       "    }\n",
       "\n",
       "    .dataframe thead th {\n",
       "        text-align: right;\n",
       "    }\n",
       "</style>\n",
       "<table border=\"1\" class=\"dataframe\">\n",
       "  <thead>\n",
       "    <tr style=\"text-align: right;\">\n",
       "      <th></th>\n",
       "      <th>Contrast</th>\n",
       "      <th>A</th>\n",
       "      <th>B</th>\n",
       "      <th>Paired</th>\n",
       "      <th>Parametric</th>\n",
       "      <th>T</th>\n",
       "      <th>dof</th>\n",
       "      <th>Tail</th>\n",
       "      <th>p-unc</th>\n",
       "      <th>p-corr</th>\n",
       "      <th>p-adjust</th>\n",
       "      <th>BF10</th>\n",
       "      <th>hedges</th>\n",
       "    </tr>\n",
       "  </thead>\n",
       "  <tbody>\n",
       "    <tr>\n",
       "      <th>0</th>\n",
       "      <td>Exons</td>\n",
       "      <td>2-into-1</td>\n",
       "      <td>3-into-1</td>\n",
       "      <td>False</td>\n",
       "      <td>True</td>\n",
       "      <td>-31.409901</td>\n",
       "      <td>1709.098707</td>\n",
       "      <td>one-sided</td>\n",
       "      <td>1.218640e-171</td>\n",
       "      <td>1.218640e-170</td>\n",
       "      <td>bonf</td>\n",
       "      <td>1.041e+205</td>\n",
       "      <td>-0.777865</td>\n",
       "    </tr>\n",
       "    <tr>\n",
       "      <th>1</th>\n",
       "      <td>Exons</td>\n",
       "      <td>2-into-1</td>\n",
       "      <td>1-into-2</td>\n",
       "      <td>False</td>\n",
       "      <td>True</td>\n",
       "      <td>31.346866</td>\n",
       "      <td>6260.810466</td>\n",
       "      <td>one-sided</td>\n",
       "      <td>8.652186e-201</td>\n",
       "      <td>8.652186e-200</td>\n",
       "      <td>bonf</td>\n",
       "      <td>3.659e+205</td>\n",
       "      <td>0.624109</td>\n",
       "    </tr>\n",
       "    <tr>\n",
       "      <th>2</th>\n",
       "      <td>Exons</td>\n",
       "      <td>2-into-1</td>\n",
       "      <td>1-into-3</td>\n",
       "      <td>False</td>\n",
       "      <td>True</td>\n",
       "      <td>13.413368</td>\n",
       "      <td>442.536007</td>\n",
       "      <td>one-sided</td>\n",
       "      <td>5.780945e-35</td>\n",
       "      <td>5.780945e-34</td>\n",
       "      <td>bonf</td>\n",
       "      <td>3.673e+37</td>\n",
       "      <td>0.794212</td>\n",
       "    </tr>\n",
       "    <tr>\n",
       "      <th>3</th>\n",
       "      <td>Exons</td>\n",
       "      <td>2-into-1</td>\n",
       "      <td>present</td>\n",
       "      <td>False</td>\n",
       "      <td>True</td>\n",
       "      <td>103.303027</td>\n",
       "      <td>12857.170140</td>\n",
       "      <td>one-sided</td>\n",
       "      <td>0.000000e+00</td>\n",
       "      <td>0.000000e+00</td>\n",
       "      <td>bonf</td>\n",
       "      <td>inf</td>\n",
       "      <td>0.887367</td>\n",
       "    </tr>\n",
       "    <tr>\n",
       "      <th>4</th>\n",
       "      <td>Exons</td>\n",
       "      <td>3-into-1</td>\n",
       "      <td>1-into-2</td>\n",
       "      <td>False</td>\n",
       "      <td>True</td>\n",
       "      <td>48.300092</td>\n",
       "      <td>3284.378019</td>\n",
       "      <td>one-sided</td>\n",
       "      <td>0.000000e+00</td>\n",
       "      <td>0.000000e+00</td>\n",
       "      <td>bonf</td>\n",
       "      <td>inf</td>\n",
       "      <td>1.222505</td>\n",
       "    </tr>\n",
       "    <tr>\n",
       "      <th>5</th>\n",
       "      <td>Exons</td>\n",
       "      <td>3-into-1</td>\n",
       "      <td>1-into-3</td>\n",
       "      <td>False</td>\n",
       "      <td>True</td>\n",
       "      <td>24.785088</td>\n",
       "      <td>550.522022</td>\n",
       "      <td>one-sided</td>\n",
       "      <td>5.959457e-92</td>\n",
       "      <td>5.959457e-91</td>\n",
       "      <td>bonf</td>\n",
       "      <td>1.687e+112</td>\n",
       "      <td>1.696041</td>\n",
       "    </tr>\n",
       "    <tr>\n",
       "      <th>6</th>\n",
       "      <td>Exons</td>\n",
       "      <td>3-into-1</td>\n",
       "      <td>present</td>\n",
       "      <td>False</td>\n",
       "      <td>True</td>\n",
       "      <td>76.330734</td>\n",
       "      <td>1279.568664</td>\n",
       "      <td>one-sided</td>\n",
       "      <td>0.000000e+00</td>\n",
       "      <td>0.000000e+00</td>\n",
       "      <td>bonf</td>\n",
       "      <td>inf</td>\n",
       "      <td>1.589692</td>\n",
       "    </tr>\n",
       "    <tr>\n",
       "      <th>7</th>\n",
       "      <td>Exons</td>\n",
       "      <td>1-into-2</td>\n",
       "      <td>1-into-3</td>\n",
       "      <td>False</td>\n",
       "      <td>True</td>\n",
       "      <td>2.082414</td>\n",
       "      <td>517.278910</td>\n",
       "      <td>one-sided</td>\n",
       "      <td>1.889771e-02</td>\n",
       "      <td>1.889771e-01</td>\n",
       "      <td>bonf</td>\n",
       "      <td>0.979</td>\n",
       "      <td>0.102633</td>\n",
       "    </tr>\n",
       "    <tr>\n",
       "      <th>8</th>\n",
       "      <td>Exons</td>\n",
       "      <td>1-into-2</td>\n",
       "      <td>present</td>\n",
       "      <td>False</td>\n",
       "      <td>True</td>\n",
       "      <td>14.971502</td>\n",
       "      <td>4330.248612</td>\n",
       "      <td>one-sided</td>\n",
       "      <td>9.547066e-50</td>\n",
       "      <td>9.547066e-49</td>\n",
       "      <td>bonf</td>\n",
       "      <td>1.431e+47</td>\n",
       "      <td>0.267252</td>\n",
       "    </tr>\n",
       "    <tr>\n",
       "      <th>9</th>\n",
       "      <td>Exons</td>\n",
       "      <td>1-into-3</td>\n",
       "      <td>present</td>\n",
       "      <td>False</td>\n",
       "      <td>True</td>\n",
       "      <td>2.742695</td>\n",
       "      <td>422.758150</td>\n",
       "      <td>one-sided</td>\n",
       "      <td>3.176344e-03</td>\n",
       "      <td>3.176344e-02</td>\n",
       "      <td>bonf</td>\n",
       "      <td>4.541</td>\n",
       "      <td>0.148845</td>\n",
       "    </tr>\n",
       "  </tbody>\n",
       "</table>\n",
       "</div>"
      ],
      "text/plain": [
       "  Contrast         A         B  Paired  Parametric           T           dof  \\\n",
       "0    Exons  2-into-1  3-into-1   False        True  -31.409901   1709.098707   \n",
       "1    Exons  2-into-1  1-into-2   False        True   31.346866   6260.810466   \n",
       "2    Exons  2-into-1  1-into-3   False        True   13.413368    442.536007   \n",
       "3    Exons  2-into-1   present   False        True  103.303027  12857.170140   \n",
       "4    Exons  3-into-1  1-into-2   False        True   48.300092   3284.378019   \n",
       "5    Exons  3-into-1  1-into-3   False        True   24.785088    550.522022   \n",
       "6    Exons  3-into-1   present   False        True   76.330734   1279.568664   \n",
       "7    Exons  1-into-2  1-into-3   False        True    2.082414    517.278910   \n",
       "8    Exons  1-into-2   present   False        True   14.971502   4330.248612   \n",
       "9    Exons  1-into-3   present   False        True    2.742695    422.758150   \n",
       "\n",
       "        Tail          p-unc         p-corr p-adjust        BF10    hedges  \n",
       "0  one-sided  1.218640e-171  1.218640e-170     bonf  1.041e+205 -0.777865  \n",
       "1  one-sided  8.652186e-201  8.652186e-200     bonf  3.659e+205  0.624109  \n",
       "2  one-sided   5.780945e-35   5.780945e-34     bonf   3.673e+37  0.794212  \n",
       "3  one-sided   0.000000e+00   0.000000e+00     bonf         inf  0.887367  \n",
       "4  one-sided   0.000000e+00   0.000000e+00     bonf         inf  1.222505  \n",
       "5  one-sided   5.959457e-92   5.959457e-91     bonf  1.687e+112  1.696041  \n",
       "6  one-sided   0.000000e+00   0.000000e+00     bonf         inf  1.589692  \n",
       "7  one-sided   1.889771e-02   1.889771e-01     bonf       0.979  0.102633  \n",
       "8  one-sided   9.547066e-50   9.547066e-49     bonf   1.431e+47  0.267252  \n",
       "9  one-sided   3.176344e-03   3.176344e-02     bonf       4.541  0.148845  "
      ]
     },
     "execution_count": 12,
     "metadata": {},
     "output_type": "execute_result"
    }
   ],
   "source": [
    "pg.pairwise_ttests(dv='log_length', between='Exons', tail='one-sided', padjust='bonf', data=dd)"
   ]
  },
  {
   "cell_type": "code",
   "execution_count": 13,
   "metadata": {},
   "outputs": [],
   "source": [
    "present = [len(dt[(dt.history=='present') & (dt.nth_intron==1)]),\n",
    "           len(dt[(dt.history=='present') & (dt.nth_intron==2)]),\n",
    "           len(dt[(dt.history=='present') & (dt.nth_intron==3)])]\n",
    "loss = [len(dt[(dt.history=='loss') & (dt.nth_intron==1)]),\n",
    "        len(dt[(dt.history=='loss') & (dt.nth_intron==2)]),\n",
    "        len(dt[(dt.history=='loss') & (dt.nth_intron==3)])]\n",
    "gain = [len(dt[(dt.history=='gain') & (dt.nth_intron==1)]),\n",
    "        len(dt[(dt.history=='gain') & (dt.nth_intron==2)]),\n",
    "        len(dt[(dt.history=='gain') & (dt.nth_intron==3)])]"
   ]
  },
  {
   "cell_type": "code",
   "execution_count": 14,
   "metadata": {},
   "outputs": [
    {
     "data": {
      "text/plain": [
       "array([[31070,  2052],\n",
       "       [37662,  4744],\n",
       "       [34417,  4026]])"
      ]
     },
     "execution_count": 14,
     "metadata": {},
     "output_type": "execute_result"
    }
   ],
   "source": [
    "np.array([present, loss]).T"
   ]
  },
  {
   "cell_type": "code",
   "execution_count": 15,
   "metadata": {},
   "outputs": [
    {
     "data": {
      "text/plain": [
       "(603.6904617939467,\n",
       " 8.133581685283119e-132,\n",
       " 2,\n",
       " array([[29976.9342903 ,  3145.0657097 ],\n",
       "        [38379.38154443,  4026.61845557],\n",
       "        [34792.68416527,  3650.31583473]]))"
      ]
     },
     "execution_count": 15,
     "metadata": {},
     "output_type": "execute_result"
    }
   ],
   "source": [
    "obs = np.array([present, loss]).T\n",
    "stats.chi2_contingency(obs)"
   ]
  },
  {
   "cell_type": "code",
   "execution_count": 16,
   "metadata": {},
   "outputs": [
    {
     "data": {
      "text/plain": [
       "(292.55671630981305,\n",
       " 2.9656249818985092e-64,\n",
       " 2,\n",
       " array([[ 383.33439111, 2326.66560889],\n",
       "        [ 759.17183657, 4607.82816343],\n",
       "        [ 640.49377231, 3887.50622769]]))"
      ]
     },
     "execution_count": 16,
     "metadata": {},
     "output_type": "execute_result"
    }
   ],
   "source": [
    "obs = np.array([gain, loss]).T\n",
    "stats.chi2_contingency(obs)"
   ]
  },
  {
   "cell_type": "code",
   "execution_count": 17,
   "metadata": {},
   "outputs": [
    {
     "data": {
      "text/plain": [
       "(42.157185313503504,\n",
       " 7.009443232828576e-10,\n",
       " 2,\n",
       " array([[  539.12080204, 31188.87919796],\n",
       "        [  650.5370621 , 37634.4629379 ],\n",
       "        [  593.34213586, 34325.65786414]]))"
      ]
     },
     "execution_count": 17,
     "metadata": {},
     "output_type": "execute_result"
    }
   ],
   "source": [
    "obs = np.array([gain, present]).T\n",
    "stats.chi2_contingency(obs)"
   ]
  },
  {
   "cell_type": "code",
   "execution_count": 18,
   "metadata": {},
   "outputs": [
    {
     "data": {
      "text/plain": [
       "2.102832969848573e-09"
      ]
     },
     "execution_count": 18,
     "metadata": {},
     "output_type": "execute_result"
    }
   ],
   "source": [
    "3*(7.009443232828576e-10)"
   ]
  },
  {
   "cell_type": "code",
   "execution_count": 19,
   "metadata": {},
   "outputs": [
    {
     "data": {
      "image/png": "[encoded data removed]",
      "text/plain": [
       "<Figure size 432x144 with 3 Axes>"
      ]
     },
     "metadata": {},
     "output_type": "display_data"
    }
   ],
   "source": [
    "sns.set_style(\"ticks\")\n",
    "g = sns.FacetGrid(dt, col=\"history\", sharey=False, height=2)\n",
    "g.map_dataframe(sns.histplot, x=\"nth_intron\", bins=range(0, 11, 1))\n",
    "g.set(xlim=(0,11))\n",
    "g.set_axis_labels(\"Intron position\", \"Frequency\")\n",
    "plt.savefig('nth_intron.pdf')"
   ]
  },
  {
   "cell_type": "code",
   "execution_count": 20,
   "metadata": {},
   "outputs": [],
   "source": [
    "dt['nth_intron_rev'] = dt[['history','nth_intron','intron_counts']].values.tolist()\n",
    "dt['nth_intron_rev'] = dt.nth_intron_rev.apply(lambda x: x[1]-x[2]-2 if x[0]=='loss' else x[1]-x[2]-1)\n",
    "# loss = nth_intron-intron_counts-2\n",
    "# gain = nth_intron-intron_counts-1\n",
    "# gain = nth_intron-intron_counts-1"
   ]
  },
  {
   "cell_type": "code",
   "execution_count": 21,
   "metadata": {},
   "outputs": [
    {
     "data": {
      "text/html": [
       "<div>\n",
       "<style scoped>\n",
       "    .dataframe tbody tr th:only-of-type {\n",
       "        vertical-align: middle;\n",
       "    }\n",
       "\n",
       "    .dataframe tbody tr th {\n",
       "        vertical-align: top;\n",
       "    }\n",
       "\n",
       "    .dataframe thead th {\n",
       "        text-align: right;\n",
       "    }\n",
       "</style>\n",
       "<table border=\"1\" class=\"dataframe\">\n",
       "  <thead>\n",
       "    <tr style=\"text-align: right;\">\n",
       "      <th></th>\n",
       "      <th>ortho</th>\n",
       "      <th>species</th>\n",
       "      <th>history</th>\n",
       "      <th>tid</th>\n",
       "      <th>ipos</th>\n",
       "      <th>evolved_ipos</th>\n",
       "      <th>nth_intron</th>\n",
       "      <th>intron_counts</th>\n",
       "      <th>seq_length</th>\n",
       "      <th>epos</th>\n",
       "      <th>exons</th>\n",
       "      <th>evolved_exons</th>\n",
       "      <th>check_ipos</th>\n",
       "      <th>check_ends</th>\n",
       "      <th>nth_intron_rev</th>\n",
       "    </tr>\n",
       "  </thead>\n",
       "  <tbody>\n",
       "    <tr>\n",
       "      <th>67319</th>\n",
       "      <td>fuNOG.ENOG410PH81.meta_raw</td>\n",
       "      <td>1344416</td>\n",
       "      <td>loss</td>\n",
       "      <td>1344416|KXS10872</td>\n",
       "      <td>[71, 250, 335, 612, 848, 903, 990, 1107, 1180,...</td>\n",
       "      <td>3511</td>\n",
       "      <td>27</td>\n",
       "      <td>77</td>\n",
       "      <td>14886</td>\n",
       "      <td>[0, 71, 250, 335, 612, 848, 903, 990, 1107, 11...</td>\n",
       "      <td>[[0, 71], [71, 250], [250, 335], [335, 612], [...</td>\n",
       "      <td>[3508, 3511, 3633]</td>\n",
       "      <td>[]</td>\n",
       "      <td>[[71, 250, 335, 612, 848, 903, 990, 1107, 1180...</td>\n",
       "      <td>-52</td>\n",
       "    </tr>\n",
       "    <tr>\n",
       "      <th>67320</th>\n",
       "      <td>fuNOG.ENOG410PH81.meta_raw</td>\n",
       "      <td>1344416</td>\n",
       "      <td>loss</td>\n",
       "      <td>1344416|KXS10872</td>\n",
       "      <td>[71, 250, 335, 612, 848, 903, 990, 1107, 1180,...</td>\n",
       "      <td>3732</td>\n",
       "      <td>28</td>\n",
       "      <td>77</td>\n",
       "      <td>14886</td>\n",
       "      <td>[0, 71, 250, 335, 612, 848, 903, 990, 1107, 11...</td>\n",
       "      <td>[[0, 71], [71, 250], [250, 335], [335, 612], [...</td>\n",
       "      <td>[3633, 3732, 3861]</td>\n",
       "      <td>[]</td>\n",
       "      <td>[[71, 250, 335, 612, 848, 903, 990, 1107, 1180...</td>\n",
       "      <td>-51</td>\n",
       "    </tr>\n",
       "    <tr>\n",
       "      <th>67321</th>\n",
       "      <td>fuNOG.ENOG410PH81.meta_raw</td>\n",
       "      <td>1344416</td>\n",
       "      <td>loss</td>\n",
       "      <td>1344416|KXS10872</td>\n",
       "      <td>[71, 250, 335, 612, 848, 903, 990, 1107, 1180,...</td>\n",
       "      <td>3927</td>\n",
       "      <td>29</td>\n",
       "      <td>77</td>\n",
       "      <td>14886</td>\n",
       "      <td>[0, 71, 250, 335, 612, 848, 903, 990, 1107, 11...</td>\n",
       "      <td>[[0, 71], [71, 250], [250, 335], [335, 612], [...</td>\n",
       "      <td>[3861, 3927, 4417]</td>\n",
       "      <td>[]</td>\n",
       "      <td>[[71, 250, 335, 612, 848, 903, 990, 1107, 1180...</td>\n",
       "      <td>-50</td>\n",
       "    </tr>\n",
       "    <tr>\n",
       "      <th>67322</th>\n",
       "      <td>fuNOG.ENOG410PH81.meta_raw</td>\n",
       "      <td>1344416</td>\n",
       "      <td>loss</td>\n",
       "      <td>1344416|KXS10872</td>\n",
       "      <td>[71, 250, 335, 612, 848, 903, 990, 1107, 1180,...</td>\n",
       "      <td>4731</td>\n",
       "      <td>31</td>\n",
       "      <td>77</td>\n",
       "      <td>14886</td>\n",
       "      <td>[0, 71, 250, 335, 612, 848, 903, 990, 1107, 11...</td>\n",
       "      <td>[[0, 71], [71, 250], [250, 335], [335, 612], [...</td>\n",
       "      <td>[4590, 4731, 5306]</td>\n",
       "      <td>[]</td>\n",
       "      <td>[[71, 250, 335, 612, 848, 903, 990, 1107, 1180...</td>\n",
       "      <td>-48</td>\n",
       "    </tr>\n",
       "    <tr>\n",
       "      <th>23642</th>\n",
       "      <td>fuNOG.ENOG410PFXY.meta_raw</td>\n",
       "      <td>914234</td>\n",
       "      <td>loss</td>\n",
       "      <td>914234|EMD41658</td>\n",
       "      <td>[248, 491, 609, 961, 1356, 1399, 1440, 1641, 1...</td>\n",
       "      <td>1063</td>\n",
       "      <td>5</td>\n",
       "      <td>48</td>\n",
       "      <td>5988</td>\n",
       "      <td>[0, 248, 491, 609, 961, 1063, 1356, 1399, 1440...</td>\n",
       "      <td>[[0, 248], [248, 491], [491, 609], [609, 961],...</td>\n",
       "      <td>[961, 1063, 1356]</td>\n",
       "      <td>[]</td>\n",
       "      <td>[[248, 491, 609, 961, 1356, 1399, 1440, 1641, ...</td>\n",
       "      <td>-45</td>\n",
       "    </tr>\n",
       "    <tr>\n",
       "      <th>...</th>\n",
       "      <td>...</td>\n",
       "      <td>...</td>\n",
       "      <td>...</td>\n",
       "      <td>...</td>\n",
       "      <td>...</td>\n",
       "      <td>...</td>\n",
       "      <td>...</td>\n",
       "      <td>...</td>\n",
       "      <td>...</td>\n",
       "      <td>...</td>\n",
       "      <td>...</td>\n",
       "      <td>...</td>\n",
       "      <td>...</td>\n",
       "      <td>...</td>\n",
       "      <td>...</td>\n",
       "    </tr>\n",
       "    <tr>\n",
       "      <th>48321</th>\n",
       "      <td>fuNOG.ENOG410PGD2.meta_raw</td>\n",
       "      <td>1220162</td>\n",
       "      <td>loss</td>\n",
       "      <td>1220162|EKD01256</td>\n",
       "      <td>[148, 171]</td>\n",
       "      <td>413</td>\n",
       "      <td>3</td>\n",
       "      <td>2</td>\n",
       "      <td>3648</td>\n",
       "      <td>[0, 148, 171, 413, 3648]</td>\n",
       "      <td>[[0, 148], [148, 171], [171, 413], [413, 3648]]</td>\n",
       "      <td>[171, 413, 3648]</td>\n",
       "      <td>[]</td>\n",
       "      <td>[[148, 171], 3648]</td>\n",
       "      <td>-1</td>\n",
       "    </tr>\n",
       "    <tr>\n",
       "      <th>48322</th>\n",
       "      <td>fuNOG.ENOG410PGD2.meta_raw</td>\n",
       "      <td>1220162</td>\n",
       "      <td>loss</td>\n",
       "      <td>1220162|EKD01256</td>\n",
       "      <td>[148, 171]</td>\n",
       "      <td>528</td>\n",
       "      <td>3</td>\n",
       "      <td>2</td>\n",
       "      <td>3648</td>\n",
       "      <td>[0, 148, 171, 528, 3648]</td>\n",
       "      <td>[[0, 148], [148, 171], [171, 528], [528, 3648]]</td>\n",
       "      <td>[171, 528, 3648]</td>\n",
       "      <td>[]</td>\n",
       "      <td>[[148, 171], 3648]</td>\n",
       "      <td>-1</td>\n",
       "    </tr>\n",
       "    <tr>\n",
       "      <th>48323</th>\n",
       "      <td>fuNOG.ENOG410PGD2.meta_raw</td>\n",
       "      <td>1220162</td>\n",
       "      <td>loss</td>\n",
       "      <td>1220162|EKD01256</td>\n",
       "      <td>[148, 171]</td>\n",
       "      <td>621</td>\n",
       "      <td>3</td>\n",
       "      <td>2</td>\n",
       "      <td>3648</td>\n",
       "      <td>[0, 148, 171, 621, 3648]</td>\n",
       "      <td>[[0, 148], [148, 171], [171, 621], [621, 3648]]</td>\n",
       "      <td>[171, 621, 3648]</td>\n",
       "      <td>[]</td>\n",
       "      <td>[[148, 171], 3648]</td>\n",
       "      <td>-1</td>\n",
       "    </tr>\n",
       "    <tr>\n",
       "      <th>48310</th>\n",
       "      <td>fuNOG.ENOG410PGCZ.meta_raw</td>\n",
       "      <td>1220162</td>\n",
       "      <td>loss</td>\n",
       "      <td>1220162|EKD05691</td>\n",
       "      <td>[275]</td>\n",
       "      <td>926</td>\n",
       "      <td>2</td>\n",
       "      <td>1</td>\n",
       "      <td>2607</td>\n",
       "      <td>[0, 275, 926, 2607]</td>\n",
       "      <td>[[0, 275], [275, 926], [926, 2607]]</td>\n",
       "      <td>[275, 926, 2607]</td>\n",
       "      <td>[]</td>\n",
       "      <td>[[275], 2607]</td>\n",
       "      <td>-1</td>\n",
       "    </tr>\n",
       "    <tr>\n",
       "      <th>11559</th>\n",
       "      <td>fuNOG.ENOG410PHAU.meta_raw</td>\n",
       "      <td>158046</td>\n",
       "      <td>loss</td>\n",
       "      <td>158046|KKY16616</td>\n",
       "      <td>[83, 111]</td>\n",
       "      <td>176</td>\n",
       "      <td>3</td>\n",
       "      <td>2</td>\n",
       "      <td>1572</td>\n",
       "      <td>[0, 83, 111, 176, 1572]</td>\n",
       "      <td>[[0, 83], [83, 111], [111, 176], [176, 1572]]</td>\n",
       "      <td>[111, 176, 1572]</td>\n",
       "      <td>[]</td>\n",
       "      <td>[[83, 111], 1572]</td>\n",
       "      <td>-1</td>\n",
       "    </tr>\n",
       "  </tbody>\n",
       "</table>\n",
       "<p>23139 rows × 15 columns</p>\n",
       "</div>"
      ],
      "text/plain": [
       "                            ortho  species history               tid  \\\n",
       "67319  fuNOG.ENOG410PH81.meta_raw  1344416    loss  1344416|KXS10872   \n",
       "67320  fuNOG.ENOG410PH81.meta_raw  1344416    loss  1344416|KXS10872   \n",
       "67321  fuNOG.ENOG410PH81.meta_raw  1344416    loss  1344416|KXS10872   \n",
       "67322  fuNOG.ENOG410PH81.meta_raw  1344416    loss  1344416|KXS10872   \n",
       "23642  fuNOG.ENOG410PFXY.meta_raw   914234    loss   914234|EMD41658   \n",
       "...                           ...      ...     ...               ...   \n",
       "48321  fuNOG.ENOG410PGD2.meta_raw  1220162    loss  1220162|EKD01256   \n",
       "48322  fuNOG.ENOG410PGD2.meta_raw  1220162    loss  1220162|EKD01256   \n",
       "48323  fuNOG.ENOG410PGD2.meta_raw  1220162    loss  1220162|EKD01256   \n",
       "48310  fuNOG.ENOG410PGCZ.meta_raw  1220162    loss  1220162|EKD05691   \n",
       "11559  fuNOG.ENOG410PHAU.meta_raw   158046    loss   158046|KKY16616   \n",
       "\n",
       "                                                    ipos  evolved_ipos  \\\n",
       "67319  [71, 250, 335, 612, 848, 903, 990, 1107, 1180,...          3511   \n",
       "67320  [71, 250, 335, 612, 848, 903, 990, 1107, 1180,...          3732   \n",
       "67321  [71, 250, 335, 612, 848, 903, 990, 1107, 1180,...          3927   \n",
       "67322  [71, 250, 335, 612, 848, 903, 990, 1107, 1180,...          4731   \n",
       "23642  [248, 491, 609, 961, 1356, 1399, 1440, 1641, 1...          1063   \n",
       "...                                                  ...           ...   \n",
       "48321                                         [148, 171]           413   \n",
       "48322                                         [148, 171]           528   \n",
       "48323                                         [148, 171]           621   \n",
       "48310                                              [275]           926   \n",
       "11559                                          [83, 111]           176   \n",
       "\n",
       "       nth_intron  intron_counts  seq_length  \\\n",
       "67319          27             77       14886   \n",
       "67320          28             77       14886   \n",
       "67321          29             77       14886   \n",
       "67322          31             77       14886   \n",
       "23642           5             48        5988   \n",
       "...           ...            ...         ...   \n",
       "48321           3              2        3648   \n",
       "48322           3              2        3648   \n",
       "48323           3              2        3648   \n",
       "48310           2              1        2607   \n",
       "11559           3              2        1572   \n",
       "\n",
       "                                                    epos  \\\n",
       "67319  [0, 71, 250, 335, 612, 848, 903, 990, 1107, 11...   \n",
       "67320  [0, 71, 250, 335, 612, 848, 903, 990, 1107, 11...   \n",
       "67321  [0, 71, 250, 335, 612, 848, 903, 990, 1107, 11...   \n",
       "67322  [0, 71, 250, 335, 612, 848, 903, 990, 1107, 11...   \n",
       "23642  [0, 248, 491, 609, 961, 1063, 1356, 1399, 1440...   \n",
       "...                                                  ...   \n",
       "48321                           [0, 148, 171, 413, 3648]   \n",
       "48322                           [0, 148, 171, 528, 3648]   \n",
       "48323                           [0, 148, 171, 621, 3648]   \n",
       "48310                                [0, 275, 926, 2607]   \n",
       "11559                            [0, 83, 111, 176, 1572]   \n",
       "\n",
       "                                                   exons       evolved_exons  \\\n",
       "67319  [[0, 71], [71, 250], [250, 335], [335, 612], [...  [3508, 3511, 3633]   \n",
       "67320  [[0, 71], [71, 250], [250, 335], [335, 612], [...  [3633, 3732, 3861]   \n",
       "67321  [[0, 71], [71, 250], [250, 335], [335, 612], [...  [3861, 3927, 4417]   \n",
       "67322  [[0, 71], [71, 250], [250, 335], [335, 612], [...  [4590, 4731, 5306]   \n",
       "23642  [[0, 248], [248, 491], [491, 609], [609, 961],...   [961, 1063, 1356]   \n",
       "...                                                  ...                 ...   \n",
       "48321    [[0, 148], [148, 171], [171, 413], [413, 3648]]    [171, 413, 3648]   \n",
       "48322    [[0, 148], [148, 171], [171, 528], [528, 3648]]    [171, 528, 3648]   \n",
       "48323    [[0, 148], [148, 171], [171, 621], [621, 3648]]    [171, 621, 3648]   \n",
       "48310                [[0, 275], [275, 926], [926, 2607]]    [275, 926, 2607]   \n",
       "11559      [[0, 83], [83, 111], [111, 176], [176, 1572]]    [111, 176, 1572]   \n",
       "\n",
       "      check_ipos                                         check_ends  \\\n",
       "67319         []  [[71, 250, 335, 612, 848, 903, 990, 1107, 1180...   \n",
       "67320         []  [[71, 250, 335, 612, 848, 903, 990, 1107, 1180...   \n",
       "67321         []  [[71, 250, 335, 612, 848, 903, 990, 1107, 1180...   \n",
       "67322         []  [[71, 250, 335, 612, 848, 903, 990, 1107, 1180...   \n",
       "23642         []  [[248, 491, 609, 961, 1356, 1399, 1440, 1641, ...   \n",
       "...          ...                                                ...   \n",
       "48321         []                                 [[148, 171], 3648]   \n",
       "48322         []                                 [[148, 171], 3648]   \n",
       "48323         []                                 [[148, 171], 3648]   \n",
       "48310         []                                      [[275], 2607]   \n",
       "11559         []                                  [[83, 111], 1572]   \n",
       "\n",
       "       nth_intron_rev  \n",
       "67319             -52  \n",
       "67320             -51  \n",
       "67321             -50  \n",
       "67322             -48  \n",
       "23642             -45  \n",
       "...               ...  \n",
       "48321              -1  \n",
       "48322              -1  \n",
       "48323              -1  \n",
       "48310              -1  \n",
       "11559              -1  \n",
       "\n",
       "[23139 rows x 15 columns]"
      ]
     },
     "execution_count": 21,
     "metadata": {},
     "output_type": "execute_result"
    }
   ],
   "source": [
    "dt[dt.history=='loss'].sort_values('nth_intron_rev')"
   ]
  },
  {
   "cell_type": "code",
   "execution_count": 22,
   "metadata": {},
   "outputs": [],
   "source": [
    "present = [len(dt[(dt.history=='present') & (dt.nth_intron_rev==-1)]),\n",
    "           len(dt[(dt.history=='present') & (dt.nth_intron_rev==-2)]),\n",
    "           len(dt[(dt.history=='present') & (dt.nth_intron_rev==-3)])]\n",
    "loss = [len(dt[(dt.history=='loss') & (dt.nth_intron_rev==-1)]),\n",
    "        len(dt[(dt.history=='loss') & (dt.nth_intron_rev==-2)]),\n",
    "        len(dt[(dt.history=='loss') & (dt.nth_intron_rev==-3)])]\n",
    "gain = [len(dt[(dt.history=='gain') & (dt.nth_intron_rev==-1)]),\n",
    "        len(dt[(dt.history=='gain') & (dt.nth_intron_rev==-2)]),\n",
    "        len(dt[(dt.history=='gain') & (dt.nth_intron_rev==-3)])]"
   ]
  },
  {
   "cell_type": "code",
   "execution_count": 23,
   "metadata": {},
   "outputs": [
    {
     "data": {
      "text/plain": [
       "([51220, 42701, 32332], [6805, 5103, 3101], [874, 612, 415])"
      ]
     },
     "execution_count": 23,
     "metadata": {},
     "output_type": "execute_result"
    }
   ],
   "source": [
    "present,loss,gain"
   ]
  },
  {
   "cell_type": "code",
   "execution_count": 24,
   "metadata": {},
   "outputs": [
    {
     "data": {
      "text/plain": [
       "(205.36349545691695,\n",
       " 2.5461475606042678e-45,\n",
       " 2,\n",
       " array([[51859.87969164,  6165.12030836],\n",
       "        [42724.85461058,  5079.14538942],\n",
       "        [31668.26569778,  3764.73430222]]))"
      ]
     },
     "execution_count": 24,
     "metadata": {},
     "output_type": "execute_result"
    }
   ],
   "source": [
    "obs = np.array([present, loss]).T\n",
    "stats.chi2_contingency(obs)"
   ]
  },
  {
   "cell_type": "code",
   "execution_count": 25,
   "metadata": {},
   "outputs": [
    {
     "data": {
      "text/plain": [
       "7.638442681812804e-45"
      ]
     },
     "execution_count": 25,
     "metadata": {},
     "output_type": "execute_result"
    }
   ],
   "source": [
    "3*(2.5461475606042678e-45)"
   ]
  },
  {
   "cell_type": "code",
   "execution_count": 26,
   "metadata": {},
   "outputs": [
    {
     "data": {
      "text/plain": [
       "(2.889100754460419,\n",
       " 0.23585209719263195,\n",
       " 2,\n",
       " array([[ 863.26309876, 6815.73690124],\n",
       "        [ 642.47279716, 5072.52720284],\n",
       "        [ 395.26410408, 3120.73589592]]))"
      ]
     },
     "execution_count": 26,
     "metadata": {},
     "output_type": "execute_result"
    }
   ],
   "source": [
    "obs = np.array([gain, loss]).T\n",
    "stats.chi2_contingency(obs)"
   ]
  },
  {
   "cell_type": "code",
   "execution_count": 27,
   "metadata": {},
   "outputs": [
    {
     "data": {
      "text/plain": [
       "(25.39837913330965,\n",
       " 3.053599294192707e-06,\n",
       " 2,\n",
       " array([[  772.74758494, 51321.25241506],\n",
       "        [  642.4927275 , 42670.5072725 ],\n",
       "        [  485.75968756, 32261.24031244]]))"
      ]
     },
     "execution_count": 27,
     "metadata": {},
     "output_type": "execute_result"
    }
   ],
   "source": [
    "obs = np.array([gain, present]).T\n",
    "stats.chi2_contingency(obs)"
   ]
  },
  {
   "cell_type": "code",
   "execution_count": 28,
   "metadata": {},
   "outputs": [
    {
     "data": {
      "text/plain": [
       "9.16079788257812e-06"
      ]
     },
     "execution_count": 28,
     "metadata": {},
     "output_type": "execute_result"
    }
   ],
   "source": [
    "3*(3.053599294192707e-06)"
   ]
  },
  {
   "cell_type": "code",
   "execution_count": 29,
   "metadata": {},
   "outputs": [
    {
     "data": {
      "image/png": "[encoded data removed]",
      "text/plain": [
       "<Figure size 432x144 with 3 Axes>"
      ]
     },
     "metadata": {},
     "output_type": "display_data"
    }
   ],
   "source": [
    "sns.set_style(\"ticks\")\n",
    "g = sns.FacetGrid(dt, col=\"history\", sharey=False, height=2)\n",
    "g.map_dataframe(sns.histplot, x=\"nth_intron_rev\", bins=range(-11, 0, 1))\n",
    "g.set(xlim=(-11,0))\n",
    "g.set_axis_labels(\"Intron position\", \"Frequency\")\n",
    "plt.savefig('nth_intron_rev.pdf')"
   ]
  },
  {
   "cell_type": "code",
   "execution_count": 30,
   "metadata": {},
   "outputs": [],
   "source": [
    "dt['evolved_ipos'] = dt.evolved_ipos.astype(int)\n",
    "dt['dist_wrt_stop'] = dt.evolved_ipos - dt.seq_length\n",
    "dt['norm_evolved_ipos'] = dt.evolved_ipos/dt.seq_length"
   ]
  },
  {
   "cell_type": "code",
   "execution_count": 31,
   "metadata": {},
   "outputs": [
    {
     "data": {
      "image/png": "[encoded data removed]",
      "text/plain": [
       "<Figure size 180x180 with 1 Axes>"
      ]
     },
     "metadata": {},
     "output_type": "display_data"
    }
   ],
   "source": [
    "sns.set_style(\"ticks\")\n",
    "plt.figure(figsize=(2.5,2.5))\n",
    "sns.kdeplot(x='norm_evolved_ipos', data=dt[dt.history=='present'], color='#1b9e77', \n",
    "            linestyle=\"--\")\n",
    "sns.kdeplot(x='norm_evolved_ipos', data=dt[dt.history=='gain'], color='#d95f02')\n",
    "sns.kdeplot(x='norm_evolved_ipos', data=dt[dt.history=='loss'], color='#1f77b4')\n",
    "\n",
    "sns.rugplot(x='norm_evolved_ipos', data=dt[dt.history=='loss'], color='#1f77b4', alpha=0.002)\n",
    "sns.rugplot(x='norm_evolved_ipos', data=dt[dt.history=='gain'], color='#d95f02', alpha=0.002)\n",
    "plt.tick_params(\n",
    "    axis='x',          # changes apply to the x-axis\n",
    "    which='both',      # both major and minor ticks are affected\n",
    "    bottom=False,      # ticks along the bottom edge are off\n",
    "    top=False,         # ticks along the top edge are off\n",
    "    labelbottom=False)\n",
    "plt.xlabel('')\n",
    "plt.savefig('genebody.png', dpi=600)"
   ]
  },
  {
   "cell_type": "code",
   "execution_count": 32,
   "metadata": {},
   "outputs": [
    {
     "data": {
      "text/plain": [
       "7.413616998559859e-09"
      ]
     },
     "execution_count": 32,
     "metadata": {},
     "output_type": "execute_result"
    }
   ],
   "source": [
    "stats.ks_2samp(dt[dt.history=='gain'].evolved_ipos.tolist(), \n",
    "               dt[dt.history=='loss'].evolved_ipos.tolist())[1]*3"
   ]
  },
  {
   "cell_type": "code",
   "execution_count": 33,
   "metadata": {},
   "outputs": [
    {
     "data": {
      "text/plain": [
       "2.700160556576852e-134"
      ]
     },
     "execution_count": 33,
     "metadata": {},
     "output_type": "execute_result"
    }
   ],
   "source": [
    "stats.ks_2samp(dt[dt.history=='present'].evolved_ipos.tolist(), \n",
    "               dt[dt.history=='loss'].evolved_ipos.tolist())[1]*3"
   ]
  },
  {
   "cell_type": "code",
   "execution_count": 34,
   "metadata": {},
   "outputs": [
    {
     "data": {
      "text/plain": [
       "0.0007908591637353875"
      ]
     },
     "execution_count": 34,
     "metadata": {},
     "output_type": "execute_result"
    }
   ],
   "source": [
    "stats.ks_2samp(dt[dt.history=='gain'].evolved_ipos.tolist(), \n",
    "               dt[dt.history=='present'].evolved_ipos.tolist())[1]*3"
   ]
  },
  {
   "cell_type": "code",
   "execution_count": 35,
   "metadata": {},
   "outputs": [
    {
     "data": {
      "text/plain": [
       "3.8299763473927514e-17"
      ]
     },
     "execution_count": 35,
     "metadata": {},
     "output_type": "execute_result"
    }
   ],
   "source": [
    "stats.ks_2samp(dt[dt.history=='gain'].dist_wrt_stop.tolist(), \n",
    "               dt[dt.history=='loss'].dist_wrt_stop.tolist())[1]*3"
   ]
  },
  {
   "cell_type": "code",
   "execution_count": 36,
   "metadata": {},
   "outputs": [
    {
     "data": {
      "text/plain": [
       "0.005805366726178966"
      ]
     },
     "execution_count": 36,
     "metadata": {},
     "output_type": "execute_result"
    }
   ],
   "source": [
    "stats.ks_2samp(dt[dt.history=='present'].dist_wrt_stop.tolist(), \n",
    "               dt[dt.history=='loss'].dist_wrt_stop.tolist())[1]*3"
   ]
  },
  {
   "cell_type": "code",
   "execution_count": 37,
   "metadata": {},
   "outputs": [
    {
     "data": {
      "text/plain": [
       "5.199933975193648e-18"
      ]
     },
     "execution_count": 37,
     "metadata": {},
     "output_type": "execute_result"
    }
   ],
   "source": [
    "stats.ks_2samp(dt[dt.history=='gain'].dist_wrt_stop.tolist(), \n",
    "               dt[dt.history=='present'].dist_wrt_stop.tolist())[1]*3"
   ]
  },
  {
   "cell_type": "code",
   "execution_count": 38,
   "metadata": {},
   "outputs": [
    {
     "data": {
      "image/png": "[encoded data removed]",
      "text/plain": [
       "<Figure size 108x180 with 1 Axes>"
      ]
     },
     "metadata": {},
     "output_type": "display_data"
    }
   ],
   "source": [
    "sns.set_style(\"ticks\")\n",
    "plt.figure(figsize=(1.5,2.5))\n",
    "sns.histplot(x='evolved_ipos', data=dt[dt.history=='gain'],\n",
    "             color='#d95f02', fill=False, element=\"step\", legend=True)\n",
    "sns.histplot(x='evolved_ipos', data=dt[dt.history=='loss'],\n",
    "             color='#1f77b4', fill=False, element=\"step\", legend=True)\n",
    "sns.histplot(x='evolved_ipos', data=dt[dt.history=='present'], \n",
    "             color='#1b9e77', fill=False, element=\"step\", legend=True)\n",
    "plt.yscale('log')\n",
    "plt.xlim(0, 1200)\n",
    "plt.ylim(100, 10000)\n",
    "plt.xlabel('Distance of intron sites to start/stop codons')\n",
    "plt.savefig('wrt_start.pdf')"
   ]
  },
  {
   "cell_type": "code",
   "execution_count": 39,
   "metadata": {},
   "outputs": [
    {
     "data": {
      "image/png": "[encoded data removed]",
      "text/plain": [
       "<Figure size 108x180 with 1 Axes>"
      ]
     },
     "metadata": {},
     "output_type": "display_data"
    }
   ],
   "source": [
    "sns.set_style(\"ticks\")\n",
    "plt.figure(figsize=(1.5,2.5))\n",
    "sns.histplot(x='dist_wrt_stop', data=dt[dt.history=='gain'], \n",
    "             color='#d95f02', fill=False, element=\"step\", alpha=0.5)\n",
    "sns.histplot(x='dist_wrt_stop', data=dt[dt.history=='loss'], \n",
    "             color='#1f77b4', fill=False, element=\"step\", alpha=0.5)\n",
    "sns.histplot(x='dist_wrt_stop', data=dt[dt.history=='present'], \n",
    "             color='#1b9e77', fill=False, element=\"step\", legend=True)\n",
    "plt.yscale('log')\n",
    "plt.xlim(-1200, 0)\n",
    "plt.ylim(100, 10000)\n",
    "plt.xlabel('Distance of intron sites to start/stop codons')\n",
    "plt.savefig('wrt_stop.pdf')"
   ]
  },
  {
   "cell_type": "code",
   "execution_count": null,
   "metadata": {},
   "outputs": [],
   "source": []
  }
 ],
 "metadata": {
  "kernelspec": {
   "display_name": "Python 3",
   "language": "python",
   "name": "python3"
  },
  "language_info": {
   "codemirror_mode": {
    "name": "ipython",
    "version": 3
   },
   "file_extension": ".py",
   "mimetype": "text/x-python",
   "name": "python",
   "nbconvert_exporter": "python",
   "pygments_lexer": "ipython3",
   "version": "3.7.3"
  }
 },
 "nbformat": 4,
 "nbformat_minor": 4
}
