{
 "cells": [
  {
   "cell_type": "code",
   "execution_count": 1,
   "metadata": {},
   "outputs": [],
   "source": [
    "import pandas as pd\n",
    "import numpy as np"
   ]
  },
  {
   "cell_type": "code",
   "execution_count": 2,
   "metadata": {},
   "outputs": [],
   "source": [
    "dt = pd.read_pickle('evolved_exons.pkl')\n",
    "# please download annotations.total.txt.gz from https://doi.org/10.5281/zenodo.4273072\n",
    "anno = pd.read_csv('annotations.total.txt', sep='\\t', comment='#', header=None, usecols=[0,2,4,11,12])\n",
    "anno.columns = ['chr','tid','strand','exon_start','exon_end']\n",
    "anno = pd.merge(dt[['tid','history','ipos','evolved_ipos','nth_intron','seq_length']], anno, on='tid')\n",
    "anno['exon_start'] = anno.exon_start.str.split(',')\n",
    "anno['exon_end'] = anno.exon_end.str.split(',')\n",
    "anno['intron_range'] = anno[['strand','nth_intron','exon_start','exon_end']].values.tolist()"
   ]
  },
  {
   "cell_type": "code",
   "execution_count": 3,
   "metadata": {},
   "outputs": [],
   "source": [
    "anno['evolved_ipos'] = anno.evolved_ipos.astype(int)\n",
    "anno['seq_length'] = anno.seq_length.astype(int)\n",
    "anno['check_ipos'] = anno[['ipos','evolved_ipos']].values.tolist()\n",
    "anno['check_ipos'] = anno.check_ipos.apply(lambda x: [i for i in x[0] if i==x[1]])\n",
    "al = anno[anno.history=='loss']\n",
    "agp = anno[anno.astype(str)['check_ipos'] != '[]']\n",
    "anno = pd.concat([al,agp])\n",
    "anno = anno[(anno.evolved_ipos!=0) & (anno.evolved_ipos!=anno.seq_length)]\n",
    "anno['check_ends'] = anno[['ipos','seq_length']].values.tolist()\n",
    "anno = anno[(anno.check_ends.apply(lambda x: x[0][0]!=0)) & \n",
    "            (anno.check_ends.apply(lambda x: x[0][-1]!=x[1]))]"
   ]
  },
  {
   "cell_type": "code",
   "execution_count": 4,
   "metadata": {},
   "outputs": [],
   "source": [
    "a = anno[anno.history=='gain'].reset_index(drop=True)\n",
    "a['intron_range'] = a.intron_range.apply(lambda x: \n",
    "                                         [x[3][x[1]-1], x[2][x[1]]] \n",
    "                                         if x[0]=='+' else \n",
    "                                         [x[3][len(x[2])-x[1]-1], x[2][len(x[2])-x[1]]])"
   ]
  },
  {
   "cell_type": "code",
   "execution_count": 5,
   "metadata": {},
   "outputs": [],
   "source": [
    "a['intron_start'] = a.intron_range.apply(lambda x: x[0])\n",
    "a['intron_end'] = a.intron_range.apply(lambda x: x[1])\n",
    "\n",
    "b = a[['chr','intron_start','intron_end','tid','nth_intron','strand']].drop_duplicates()\n",
    "b.reset_index(drop=True, inplace=True)\n",
    "b[['taxid','id']] = b.tid.str.split('|', expand=True)\n",
    "b['chr'] = b.taxid + '|' + b.chr\n",
    "b.drop(['taxid','id'], axis=1, inplace=True)\n",
    "b.to_csv('../repeat_elements/gained_introns.bed', sep='\\t', index=None, header=None)"
   ]
  },
  {
   "cell_type": "code",
   "execution_count": 7,
   "metadata": {},
   "outputs": [],
   "source": [
    "a = anno[anno.history=='present'].reset_index(drop=True)\n",
    "a['intron_range'] = a.intron_range.apply(lambda x: \n",
    "                                         [x[3][x[1]-1], x[2][x[1]]] \n",
    "                                         if x[0]=='+' else \n",
    "                                         [x[3][len(x[2])-x[1]-1], x[2][len(x[2])-x[1]]])"
   ]
  },
  {
   "cell_type": "code",
   "execution_count": 8,
   "metadata": {},
   "outputs": [],
   "source": [
    "a['intron_start'] = a.intron_range.apply(lambda x: x[0])\n",
    "a['intron_end'] = a.intron_range.apply(lambda x: x[1])\n",
    "\n",
    "b = a[['chr','intron_start','intron_end','tid','nth_intron','strand']].drop_duplicates()\n",
    "b.reset_index(drop=True, inplace=True)\n",
    "b[['taxid','id']] = b.tid.str.split('|', expand=True)\n",
    "b['chr'] = b.taxid + '|' + b.chr\n",
    "b.drop(['taxid','id'], axis=1, inplace=True)\n",
    "b.to_csv('../repeat_elements/present_introns.bed', sep='\\t', index=None, header=None)"
   ]
  },
  {
   "cell_type": "code",
   "execution_count": null,
   "metadata": {},
   "outputs": [],
   "source": []
  }
 ],
 "metadata": {
  "kernelspec": {
   "display_name": "Python 3",
   "language": "python",
   "name": "python3"
  },
  "language_info": {
   "codemirror_mode": {
    "name": "ipython",
    "version": 3
   },
   "file_extension": ".py",
   "mimetype": "text/x-python",
   "name": "python",
   "nbconvert_exporter": "python",
   "pygments_lexer": "ipython3",
   "version": "3.7.3"
  }
 },
 "nbformat": 4,
 "nbformat_minor": 4
}
