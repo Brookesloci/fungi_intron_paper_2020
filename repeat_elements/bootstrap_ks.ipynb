{
 "cells": [
  {
   "cell_type": "code",
   "execution_count": 1,
   "metadata": {},
   "outputs": [],
   "source": [
    "import numpy as np\n",
    "import pandas as pd\n",
    "from scipy import stats\n",
    "import matplotlib.pyplot as plt\n",
    "import seaborn as sns\n",
    "from decimal import Decimal, ROUND_HALF_UP"
   ]
  },
  {
   "cell_type": "markdown",
   "metadata": {},
   "source": [
    "```console\n",
    "# merge overlapping repeat elements\n",
    "bedtools merge -i rm.bed -c 4,5,6 -o collapse > rm.collapsed.bed\n",
    "\n",
    "# repeat elements in recently gained introns\n",
    "bedtools intersect -a gained_introns.bed -b rm.collapsed.bed -wao | awk 'BEGIN{OFS=\"\\t\"} $NF>1 {print $1,$2,$3,$4,$5,$6,\"repeats\", $NF}' | datamash -s -g1,2,3,4,5,6,7 sum 8 > gained_introns.txt\n",
    "bedtools intersect -a gained_introns.bed -b rm.collapsed.bed -wao | awk 'BEGIN{OFS=\"\\t\"} $NF==0 {print $1,$2,$3,$4,$5,$6,\"no_repeats\\t0\"}' >> gained_introns.txt\n",
    "bedtools intersect -a gained_introns.bed -b rm.collapsed.bed -wao | awk '$NF>1' | cut -f-6 | awk '!seen[$0]++' | wc -l\n",
    "# 16\n",
    "bedtools sort -i rm_class.bed | bedtools merge -i stdin -c 4,5,6 -o collapse > rm_class.collapsed.bed\n",
    "bedtools intersect -a gained_introns.bed -b rm_class.bed -wao | awk '$NF>1' > rm_class.wao\n",
    "sed 's/|/\\t/' rm_class.wao | cut -f1,11 | sort -u \\\n",
    "| while read i j; do \\\n",
    "grep \"$i|\" rm_class.wao | grep \"$j\" | awk 'BEGIN{OFS=\"\\t\"} {print $1,$2,$3,$10,$5,$6}' | bedtools merge -i stdin -s -c 4,6 -o distinct\n",
    "done\n",
    "\n",
    "# repeat elements in older introns\n",
    "bedtools intersect -a present_introns.bed -b gained_introns.bed -wao | awk '$NF>0' | cut -f-6 | awk '!seen[$0]++' > gained_present_introns.bed\n",
    "comm -13 <(sort gained_present_introns.bed) <(sort present_introns.bed | awk '{ sub(\"\\r$\", \"\"); print }') > old_introns.bed\n",
    "bedtools intersect -a old_introns.bed -b rm.collapsed.bed -wao | awk 'BEGIN{OFS=\"\\t\"} $NF>1 {print $1,$2,$3,$4,$5,$6,\"repeats\", $NF}' | datamash -s -g1,2,3,4,5,6,7 sum 8 > old_introns.txt\n",
    "bedtools intersect -a old_introns.bed -b rm.collapsed.bed -wao | awk 'BEGIN{OFS=\"\\t\"} $NF==0 {print $1,$2,$3,$4,$5,$6,\"no_repeats\\t0\"}' >> old_introns.txt\n",
    "\n",
    "# repeat elements in present introns\n",
    "join -t$'\\t' \\\n",
    "<(awk '!seen[$4]++ {print $4}' present_introns.bed | sort) \\\n",
    "<(sed 's/__.\\+\\t0/\\t0/;s/|/\\t/' uniq_exons.bed | awk 'BEGIN{OFS=\"\\t\"} {print $1 \"|\" $5, $1 \"|\" $2,$3,$4,$1 \"|\" $5,$6,$7}' | sort -k1,1) \\\n",
    "| cut -f2- > present_exons.bed\n",
    "bedtools intersect -a present_exons.bed -b rm.collapsed.bed -wao | awk 'BEGIN{OFS=\"\\t\"} $NF>1 {print $1,$2,$3,$4,$5,$6,\"repeats\", $NF}' | datamash -s -g1,2,3,4,5,6,7 sum 8 > present_exons.txt\n",
    "bedtools intersect -a present_exons.bed -b rm.collapsed.bed -wao | awk 'BEGIN{OFS=\"\\t\"} $NF==0 {print $1,$2,$3,$4,$5,$6,\"no_repeats\\t0\"}' >> present_exons.txt\n",
    "\n",
    "# repeat elements in intergenic regions\n",
    "bedtools intersect -a intergenic.bed -b rm.collapsed.bed -wao | awk 'BEGIN{OFS=\"\\t\"} $NF>1 {print $1,$2,$3,\"repeats\", $NF}' | datamash -s -g1,2,3,4 sum 5 > intergenic.txt\n",
    "bedtools intersect -a intergenic.bed -b rm.collapsed.bed -wao | awk 'BEGIN{OFS=\"\\t\"} $NF==0 {print $1,$2,$3,\"no_repeats\\t0\"}' > intergenic.no_repeats.txt\n",
    "join -t$'\\t' \\\n",
    "<(sed 's/|/\\t/' intergenic.txt | awk '!seen[$1]++ {print $1}' | sort -k1,1) \\\n",
    "<(awk '{print $1\"\\t\"$0}' intergenic.no_repeats.txt | sed 's/|/\\t/' | cut -f1,3- | sort -k1,1) | cut -f2- >> intergenic.txt\n",
    "awk '!/Mt/ && !/Mito/' intergenic.txt > intergenic.txt2\n",
    "mv intergenic.txt2 intergenic.txt\n",
    "```"
   ]
  },
  {
   "cell_type": "code",
   "execution_count": 2,
   "metadata": {},
   "outputs": [],
   "source": [
    "gi = pd.read_csv('gained_introns.txt', sep='\\t', header=None)\n",
    "gi.columns = ['chr','start','end','tid','score','strand','repeats','repeats_length']\n",
    "gi['length'] = gi.end-gi.start\n",
    "gi['rounded_length'] = gi.length.apply(lambda x: Decimal(x/10).to_integral_value(rounding=ROUND_HALF_UP)*10)\n",
    "gi['class'] = 'gained'\n",
    "\n",
    "oi = pd.read_csv('old_introns.txt', sep='\\t', header=None)\n",
    "oi.columns = ['chr','start','end','tid','score','strand','repeats','repeats_length']\n",
    "oi['length'] = oi.end-oi.start\n",
    "oi['rounded_length'] = oi.length.apply(lambda x: Decimal(x/10).to_integral_value(rounding=ROUND_HALF_UP)*10)\n",
    "oi['class'] = 'present'\n",
    "\n",
    "e = pd.read_csv('present_exons.txt', sep='\\t', header=None)\n",
    "e.columns = ['chr','start','end','tid','score','strand','repeats','repeats_length']\n",
    "e['length'] = e.end-e.start\n",
    "e['rounded_length'] = e.length.apply(lambda x: Decimal(x/10).to_integral_value(rounding=ROUND_HALF_UP)*10)\n",
    "e['class'] = 'exons'\n",
    "\n",
    "i = pd.read_csv('intergenic.txt', sep='\\t', header=None)\n",
    "i.columns = ['chr','start','end','repeats','repeats_length']\n",
    "i['length'] = i.end-i.start\n",
    "i['rounded_length'] = i.length.apply(lambda x: Decimal(x/10).to_integral_value(rounding=ROUND_HALF_UP)*10)\n",
    "i['class'] = 'intergenic'"
   ]
  },
  {
   "cell_type": "code",
   "execution_count": 3,
   "metadata": {},
   "outputs": [],
   "source": [
    "d = pd.concat([gi, oi, e])\n",
    "d = d[['chr','start','end','repeats','repeats_length','length','rounded_length','class']]\n",
    "d = pd.concat([i, d[['chr','start','end','repeats','repeats_length',\n",
    "                     'length','rounded_length','class']]])"
   ]
  },
  {
   "cell_type": "code",
   "execution_count": 4,
   "metadata": {},
   "outputs": [
    {
     "data": {
      "text/plain": [
       "[None]"
      ]
     },
     "execution_count": 4,
     "metadata": {},
     "output_type": "execute_result"
    },
    {
     "data": {
      "image/png": "[encoded data removed]",
      "text/plain": [
       "<Figure size 432x288 with 1 Axes>"
      ]
     },
     "metadata": {
      "needs_background": "light"
     },
     "output_type": "display_data"
    }
   ],
   "source": [
    "g = sns.boxplot(x='class', y='length', data=d)\n",
    "g.set(yscale=\"log\")"
   ]
  },
  {
   "cell_type": "code",
   "execution_count": 5,
   "metadata": {},
   "outputs": [],
   "source": [
    "l = pd.DataFrame(gi['rounded_length'].value_counts(normalize=True)).reset_index()\n",
    "l.columns = ['rounded_length','weight']\n",
    "df = pd.merge(d, l, on='rounded_length')\n",
    "\n",
    "gi = df[df['class']=='gained']\n",
    "oi = df[df['class']=='present']\n",
    "e = df[df['class']=='exons']\n",
    "i = df[df['class']=='intergenic']"
   ]
  },
  {
   "cell_type": "code",
   "execution_count": 6,
   "metadata": {},
   "outputs": [
    {
     "data": {
      "text/plain": [
       "((3328, 9), (226061, 9), (646125, 9), (1640077, 9))"
      ]
     },
     "execution_count": 6,
     "metadata": {},
     "output_type": "execute_result"
    }
   ],
   "source": [
    "gi.shape,oi.shape,e.shape,i.shape"
   ]
  },
  {
   "cell_type": "code",
   "execution_count": 7,
   "metadata": {},
   "outputs": [],
   "source": [
    "ls = []\n",
    "for j in list(range(1,1001)):\n",
    "    gis = gi.sample(n=1000, weights=gi['weight'], random_state=j)\n",
    "    ois = oi.sample(n=1000, weights=oi['weight'], random_state=j)\n",
    "    es = e.sample(n=1000, weights=e['weight'], random_state=j)\n",
    "    igs = i.sample(n=1000, weights=i['weight'], random_state=j)\n",
    "    d = pd.concat([gis,ois,es,igs])\n",
    "    d = pd.DataFrame(d.groupby('class')[['length','repeats_length']].sum()).reset_index()\n",
    "    d['bootstrap'] = j\n",
    "    ls.append(d)\n",
    "    \n",
    "d = pd.concat(ls).reset_index(drop=True)\n",
    "d['percent_repeats'] = d.repeats_length / d.length * 100\n",
    "d.to_pickle('gained_introns_bs.pkl')"
   ]
  },
  {
   "cell_type": "code",
   "execution_count": 8,
   "metadata": {},
   "outputs": [
    {
     "data": {
      "image/png": "[encoded data removed]",
      "text/plain": [
       "<Figure size 216x180 with 1 Axes>"
      ]
     },
     "metadata": {
      "needs_background": "light"
     },
     "output_type": "display_data"
    }
   ],
   "source": [
    "plt.figure(figsize=(3,2.5))\n",
    "sns.kdeplot(x=d[d['class']=='present'].percent_repeats, color='#1b9e77',\n",
    "            label='Introns (present)')\n",
    "sns.kdeplot(x=d[d['class']=='gained'].percent_repeats, color='#d95f02', \n",
    "            label='Introns (gained)')\n",
    "sns.kdeplot(x=d[d['class']=='exons'].percent_repeats, color='#7570b3', \n",
    "            label='Exons (present)')\n",
    "plt.xlabel('% repeats')\n",
    "plt.ylabel('Density')\n",
    "plt.legend()\n",
    "plt.savefig('gained_introns_bs.pdf')"
   ]
  },
  {
   "cell_type": "code",
   "execution_count": 9,
   "metadata": {},
   "outputs": [
    {
     "data": {
      "image/png": "[encoded data removed]",
      "text/plain": [
       "<Figure size 288x180 with 1 Axes>"
      ]
     },
     "metadata": {
      "needs_background": "light"
     },
     "output_type": "display_data"
    }
   ],
   "source": [
    "plt.figure(figsize=(4,2.5))\n",
    "sns.kdeplot(x=d[d['class']=='present'].percent_repeats, color='#7570b3', \n",
    "            label='Introns (present)')\n",
    "sns.kdeplot(x=d[d['class']=='gained'].percent_repeats, color='#d95f02', \n",
    "            label='Introns (gained)')\n",
    "sns.kdeplot(x=d[d['class']=='exons'].percent_repeats, color='#1b9e77', \n",
    "            label='Exons (present)')\n",
    "sns.kdeplot(x=d[d['class']=='intergenic'].percent_repeats, color='#000000', \n",
    "            label='Intergenic regions')\n",
    "plt.xlabel('% repeats')\n",
    "plt.ylabel('Density')\n",
    "plt.legend()\n",
    "plt.savefig('gained_introns_bs_int.pdf')"
   ]
  },
  {
   "cell_type": "code",
   "execution_count": 10,
   "metadata": {},
   "outputs": [
    {
     "data": {
      "text/plain": [
       "Ks_2sampResult(statistic=0.385, pvalue=1.8608981050282822e-66)"
      ]
     },
     "execution_count": 10,
     "metadata": {},
     "output_type": "execute_result"
    }
   ],
   "source": [
    "stats.ks_2samp(d[d['class']=='present'].percent_repeats, \n",
    "               d[d['class']=='gained'].percent_repeats)"
   ]
  },
  {
   "cell_type": "code",
   "execution_count": 11,
   "metadata": {},
   "outputs": [
    {
     "data": {
      "text/plain": [
       "Ks_2sampResult(statistic=0.331, pvalue=6.841548019463371e-49)"
      ]
     },
     "execution_count": 11,
     "metadata": {},
     "output_type": "execute_result"
    }
   ],
   "source": [
    "stats.ks_2samp(d[d['class']=='exons'].percent_repeats, \n",
    "               d[d['class']=='gained'].percent_repeats)"
   ]
  },
  {
   "cell_type": "code",
   "execution_count": 12,
   "metadata": {},
   "outputs": [
    {
     "data": {
      "text/plain": [
       "Ks_2sampResult(statistic=0.073, pvalue=0.00967775474446886)"
      ]
     },
     "execution_count": 12,
     "metadata": {},
     "output_type": "execute_result"
    }
   ],
   "source": [
    "stats.ks_2samp(d[d['class']=='present'].percent_repeats, \n",
    "               d[d['class']=='exons'].percent_repeats)"
   ]
  },
  {
   "cell_type": "code",
   "execution_count": 13,
   "metadata": {},
   "outputs": [],
   "source": [
    "# d = pd.read_pickle('gained_introns_bs.pkl')"
   ]
  },
  {
   "cell_type": "code",
   "execution_count": 14,
   "metadata": {},
   "outputs": [
    {
     "data": {
      "text/html": [
       "<div>\n",
       "<style scoped>\n",
       "    .dataframe tbody tr th:only-of-type {\n",
       "        vertical-align: middle;\n",
       "    }\n",
       "\n",
       "    .dataframe tbody tr th {\n",
       "        vertical-align: top;\n",
       "    }\n",
       "\n",
       "    .dataframe thead th {\n",
       "        text-align: right;\n",
       "    }\n",
       "</style>\n",
       "<table border=\"1\" class=\"dataframe\">\n",
       "  <thead>\n",
       "    <tr style=\"text-align: right;\">\n",
       "      <th></th>\n",
       "      <th>percent_repeats</th>\n",
       "    </tr>\n",
       "    <tr>\n",
       "      <th>class</th>\n",
       "      <th></th>\n",
       "    </tr>\n",
       "  </thead>\n",
       "  <tbody>\n",
       "    <tr>\n",
       "      <th>exons</th>\n",
       "      <td>0.289869</td>\n",
       "    </tr>\n",
       "    <tr>\n",
       "      <th>gained</th>\n",
       "      <td>0.418620</td>\n",
       "    </tr>\n",
       "    <tr>\n",
       "      <th>intergenic</th>\n",
       "      <td>5.374121</td>\n",
       "    </tr>\n",
       "    <tr>\n",
       "      <th>present</th>\n",
       "      <td>0.283785</td>\n",
       "    </tr>\n",
       "  </tbody>\n",
       "</table>\n",
       "</div>"
      ],
      "text/plain": [
       "            percent_repeats\n",
       "class                      \n",
       "exons              0.289869\n",
       "gained             0.418620\n",
       "intergenic         5.374121\n",
       "present            0.283785"
      ]
     },
     "execution_count": 14,
     "metadata": {},
     "output_type": "execute_result"
    }
   ],
   "source": [
    "d.groupby('class')[['percent_repeats']].median()"
   ]
  },
  {
   "cell_type": "code",
   "execution_count": 15,
   "metadata": {},
   "outputs": [
    {
     "data": {
      "text/plain": [
       "1.4751308208679106"
      ]
     },
     "execution_count": 15,
     "metadata": {},
     "output_type": "execute_result"
    }
   ],
   "source": [
    "0.418620/0.283785"
   ]
  },
  {
   "cell_type": "code",
   "execution_count": null,
   "metadata": {},
   "outputs": [],
   "source": []
  }
 ],
 "metadata": {
  "kernelspec": {
   "display_name": "Python 3",
   "language": "python",
   "name": "python3"
  },
  "language_info": {
   "codemirror_mode": {
    "name": "ipython",
    "version": 3
   },
   "file_extension": ".py",
   "mimetype": "text/x-python",
   "name": "python",
   "nbconvert_exporter": "python",
   "pygments_lexer": "ipython3",
   "version": "3.7.3"
  }
 },
 "nbformat": 4,
 "nbformat_minor": 4
}
